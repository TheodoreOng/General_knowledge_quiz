{
  "nbformat": 4,
  "nbformat_minor": 0,
  "metadata": {
    "colab": {
      "provenance": [],
      "authorship_tag": "ABX9TyPGyHCdk+uBa/hWioPk783O",
      "include_colab_link": true
    },
    "kernelspec": {
      "name": "python3",
      "display_name": "Python 3"
    },
    "language_info": {
      "name": "python"
    }
  },
  "cells": [
    {
      "cell_type": "markdown",
      "metadata": {
        "id": "view-in-github",
        "colab_type": "text"
      },
      "source": [
        "<a href=\"https://colab.research.google.com/github/TheodoreOng/General_knowledge_quiz/blob/main/General__knowledge_quiz.ipynb\" target=\"_parent\"><img src=\"https://colab.research.google.com/assets/colab-badge.svg\" alt=\"Open In Colab\"/></a>"
      ]
    },
    {
      "cell_type": "code",
      "execution_count": null,
      "metadata": {
        "id": "pmvRaClNAX6f"
      },
      "outputs": [],
      "source": [
        "General_questions = [\n",
        "    {\n",
        "        \"question\": \"What is the biggest country in the world?\",\n",
        "        \"options\": [\"A. China\", \"B. Russia\", \"C. United States\", \"D. Brazil\"],\n",
        "        \"answer\": \"B\"\n",
        "    },\n",
        "    {\n",
        "        \"question\": \"What is the largest planet in our solar system?\",\n",
        "        \"options\": [\"A. Earth\", \"B. Jupiter\", \"C. Saturn\", \"D. Mars\"],\n",
        "        \"answer\": \"B\"\n",
        "    },\n",
        "    {\n",
        "        \"question\": \"How many seasons are there in a year?\",\n",
        "        \"options\": [\"A. 2\", \"B. 5\", \"C. 6\", \"D. 4\"],\n",
        "        \"answer\": \"D\"\n",
        "    },\n",
        "    {\n",
        "        \"question\": \"What is the chemical symbol for water?\",\n",
        "        \"options\": [\"A. H2O\", \"B. CO2\", \"C. NaCl\", \"D. O2\"],\n",
        "        \"answer\": \"A\"\n",
        "    }\n",
        "\n",
        "]\n",
        "\n",
        "def ask_question(question_data):\n",
        "    print(question_data[\"question\"])\n",
        "    for option in question_data[\"options\"]:\n",
        "        print(option)\n",
        "    answer = input(\"Please enter the letter of your answer: \").strip().upper()\n",
        "    return answer == question_data[\"answer\"]\n",
        "\n",
        "def quiz_game():\n",
        "    score = 0\n",
        "    for question in General_questions:\n",
        "        if ask_question(question):\n",
        "            print(\"Correct!\\n\")\n",
        "            score += 1\n",
        "        else:\n",
        "            print(f\"Wrong! The correct answer was {question['answer']}\\n\")\n",
        "    print(f\"Your final score is {score}/{len(General_questions)}\")\n",
        "\n",
        "# Start the quiz\n",
        "quiz_game()\n"
      ]
    }
  ]
}